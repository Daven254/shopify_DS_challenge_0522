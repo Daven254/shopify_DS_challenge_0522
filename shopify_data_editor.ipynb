{
 "cells": [
  {
   "cell_type": "markdown",
   "id": "45cd3b77-a22a-4c6a-a449-d36442686028",
   "metadata": {},
   "source": [
    "## Import Statements"
   ]
  },
  {
   "cell_type": "code",
   "execution_count": 1,
   "id": "4e7091ea-8c5d-4de9-baa3-78820e34e2b3",
   "metadata": {},
   "outputs": [],
   "source": [
    "import pandas as pd\n",
    "import numpy as np\n",
    "import matplotlib.pyplot as plt\n",
    "%matplotlib inline"
   ]
  },
  {
   "cell_type": "markdown",
   "id": "1f5836e6-e322-4057-b5fc-3f5862329a56",
   "metadata": {},
   "source": [
    "## Loading in the DataFrame as *data*"
   ]
  },
  {
   "cell_type": "markdown",
   "id": "f561b742-642c-483e-b49a-853183d7b347",
   "metadata": {},
   "source": [
    "### Handling Money and Sales, so money formatting is more appropriate for certain values\n",
    "For this, I created a formatting method for currency."
   ]
  },
  {
   "cell_type": "code",
   "execution_count": 2,
   "id": "52469ad4-cb8d-4cd6-8b75-3b28449a306b",
   "metadata": {},
   "outputs": [],
   "source": [
    "data = pd.read_csv('datasets/shopify_data.csv')"
   ]
  },
  {
   "cell_type": "code",
   "execution_count": 7,
   "id": "0d5e3630-f20e-43e0-9916-12486a2d95a5",
   "metadata": {},
   "outputs": [],
   "source": [
    "def money_format(x):\n",
    "    return \"$\"+('%.2f' % x).rstrip('0').rstrip('.')"
   ]
  },
  {
   "cell_type": "markdown",
   "id": "f699a585-4657-4e18-8f7d-697b362ef40f",
   "metadata": {},
   "source": [
    "## Getting some information about the dataframe"
   ]
  },
  {
   "cell_type": "code",
   "execution_count": 8,
   "id": "be41e251-c295-484f-a0cf-f75ee2cf141c",
   "metadata": {},
   "outputs": [
    {
     "name": "stdout",
     "output_type": "stream",
     "text": [
      "<class 'pandas.core.frame.DataFrame'>\n",
      "RangeIndex: 5000 entries, 0 to 4999\n",
      "Data columns (total 7 columns):\n",
      " #   Column          Non-Null Count  Dtype \n",
      "---  ------          --------------  ----- \n",
      " 0   order_id        5000 non-null   int64 \n",
      " 1   shop_id         5000 non-null   int64 \n",
      " 2   user_id         5000 non-null   int64 \n",
      " 3   order_amount    5000 non-null   int64 \n",
      " 4   total_items     5000 non-null   int64 \n",
      " 5   payment_method  5000 non-null   object\n",
      " 6   created_at      5000 non-null   object\n",
      "dtypes: int64(5), object(2)\n",
      "memory usage: 273.6+ KB\n",
      "None\n"
     ]
    }
   ],
   "source": [
    "print(data.info())"
   ]
  },
  {
   "cell_type": "markdown",
   "id": "fca4aac6-a82c-4bae-9217-ded0077820ff",
   "metadata": {},
   "source": [
    "***\n",
    "I want to first verify that that there the entire dataframe is filled and NA/NaN values are not present.\n",
    "\n",
    "For this, I use the *.info()* method on my dataframe\n",
    "\n",
    "This is also showing me that there are 5000 rows and 7 columns with int and object types\n",
    "\n",
    "***"
   ]
  },
  {
   "cell_type": "markdown",
   "id": "b3506f94-57fa-499c-b3be-c0078e601be7",
   "metadata": {},
   "source": [
    "***\n",
    "# How did the wrong Average Order Value (AOV) value come into play?\n",
    "\n",
    "### The value of \\$3145.13 was taken from the average of the 'order_amount' column\n",
    "This is visisble in the *mean* row and *order_amount* column"
   ]
  },
  {
   "cell_type": "code",
   "execution_count": 9,
   "id": "2a643732-7718-45ca-8593-2e02559e7471",
   "metadata": {},
   "outputs": [
    {
     "data": {
      "text/html": [
       "<div>\n",
       "<style scoped>\n",
       "    .dataframe tbody tr th:only-of-type {\n",
       "        vertical-align: middle;\n",
       "    }\n",
       "\n",
       "    .dataframe tbody tr th {\n",
       "        vertical-align: top;\n",
       "    }\n",
       "\n",
       "    .dataframe thead th {\n",
       "        text-align: right;\n",
       "    }\n",
       "</style>\n",
       "<table border=\"1\" class=\"dataframe\">\n",
       "  <thead>\n",
       "    <tr style=\"text-align: right;\">\n",
       "      <th></th>\n",
       "      <th>order_id</th>\n",
       "      <th>shop_id</th>\n",
       "      <th>user_id</th>\n",
       "      <th>order_amount</th>\n",
       "      <th>total_items</th>\n",
       "    </tr>\n",
       "  </thead>\n",
       "  <tbody>\n",
       "    <tr>\n",
       "      <th>count</th>\n",
       "      <td>5000.000000</td>\n",
       "      <td>5000.000000</td>\n",
       "      <td>5000.000000</td>\n",
       "      <td>5000.000000</td>\n",
       "      <td>5000.00000</td>\n",
       "    </tr>\n",
       "    <tr>\n",
       "      <th>mean</th>\n",
       "      <td>2500.500000</td>\n",
       "      <td>50.078800</td>\n",
       "      <td>849.092400</td>\n",
       "      <td>3145.128000</td>\n",
       "      <td>8.78720</td>\n",
       "    </tr>\n",
       "    <tr>\n",
       "      <th>std</th>\n",
       "      <td>1443.520003</td>\n",
       "      <td>29.006118</td>\n",
       "      <td>87.798982</td>\n",
       "      <td>41282.539349</td>\n",
       "      <td>116.32032</td>\n",
       "    </tr>\n",
       "    <tr>\n",
       "      <th>min</th>\n",
       "      <td>1.000000</td>\n",
       "      <td>1.000000</td>\n",
       "      <td>607.000000</td>\n",
       "      <td>90.000000</td>\n",
       "      <td>1.00000</td>\n",
       "    </tr>\n",
       "    <tr>\n",
       "      <th>25%</th>\n",
       "      <td>1250.750000</td>\n",
       "      <td>24.000000</td>\n",
       "      <td>775.000000</td>\n",
       "      <td>163.000000</td>\n",
       "      <td>1.00000</td>\n",
       "    </tr>\n",
       "    <tr>\n",
       "      <th>50%</th>\n",
       "      <td>2500.500000</td>\n",
       "      <td>50.000000</td>\n",
       "      <td>849.000000</td>\n",
       "      <td>284.000000</td>\n",
       "      <td>2.00000</td>\n",
       "    </tr>\n",
       "    <tr>\n",
       "      <th>75%</th>\n",
       "      <td>3750.250000</td>\n",
       "      <td>75.000000</td>\n",
       "      <td>925.000000</td>\n",
       "      <td>390.000000</td>\n",
       "      <td>3.00000</td>\n",
       "    </tr>\n",
       "    <tr>\n",
       "      <th>max</th>\n",
       "      <td>5000.000000</td>\n",
       "      <td>100.000000</td>\n",
       "      <td>999.000000</td>\n",
       "      <td>704000.000000</td>\n",
       "      <td>2000.00000</td>\n",
       "    </tr>\n",
       "  </tbody>\n",
       "</table>\n",
       "</div>"
      ],
      "text/plain": [
       "          order_id      shop_id      user_id   order_amount  total_items\n",
       "count  5000.000000  5000.000000  5000.000000    5000.000000   5000.00000\n",
       "mean   2500.500000    50.078800   849.092400    3145.128000      8.78720\n",
       "std    1443.520003    29.006118    87.798982   41282.539349    116.32032\n",
       "min       1.000000     1.000000   607.000000      90.000000      1.00000\n",
       "25%    1250.750000    24.000000   775.000000     163.000000      1.00000\n",
       "50%    2500.500000    50.000000   849.000000     284.000000      2.00000\n",
       "75%    3750.250000    75.000000   925.000000     390.000000      3.00000\n",
       "max    5000.000000   100.000000   999.000000  704000.000000   2000.00000"
      ]
     },
     "execution_count": 9,
     "metadata": {},
     "output_type": "execute_result"
    }
   ],
   "source": [
    "data.describe()"
   ]
  },
  {
   "cell_type": "code",
   "execution_count": 10,
   "id": "3ab0db75-c48b-4486-b9dc-451a38398948",
   "metadata": {},
   "outputs": [
    {
     "name": "stdout",
     "output_type": "stream",
     "text": [
      "Incorrect AOV: $3145.13\n"
     ]
    }
   ],
   "source": [
    "print(\"Incorrect AOV:\",money_format(data['order_amount'].mean()))"
   ]
  },
  {
   "cell_type": "markdown",
   "id": "931f0add-8aaf-4cff-9bcc-8f272124279b",
   "metadata": {},
   "source": [
    "***\n",
    "## Moving Forward to get a more appropriate AOV...\n",
    "First, lets confirm that there are indeed 100 different shops."
   ]
  },
  {
   "cell_type": "code",
   "execution_count": 11,
   "id": "79c1d75e-8dff-44d9-8516-a012c429ef4e",
   "metadata": {},
   "outputs": [],
   "source": [
    "list_of_shops = data['shop_id'].unique()"
   ]
  },
  {
   "cell_type": "markdown",
   "id": "b6d272e8-a55c-42ed-9c10-32b1dbf01d37",
   "metadata": {},
   "source": [
    "## Now, I will find the total number of items bought for the total amount of money paid. \n",
    "To do this, I will break each order into items and populate a list"
   ]
  },
  {
   "cell_type": "code",
   "execution_count": 12,
   "id": "35513975-28d5-4e9f-b134-d7ab179e829c",
   "metadata": {},
   "outputs": [],
   "source": [
    "list_items = []\n",
    "def AOV_find(data):\n",
    "    list_of_shops = data['shop_id'].unique()\n",
    "    list_of_items = []\n",
    "\n",
    "    for shop_id_num in list_of_shops:    \n",
    "        #print(data[data[\"shop_id\"] == shop_id_num][['order_amount','total_items']].sum())\n",
    "\n",
    "        total_item_count = data[data[\"shop_id\"] == shop_id_num]['total_items'].sum()\n",
    "        average_cost = data[data[\"shop_id\"] == shop_id_num]['order_amount'].sum()/total_item_count\n",
    "        #print(average_cost)\n",
    "        for x in range(total_item_count):\n",
    "            list_of_items.append(average_cost)\n",
    "    print(\"Median cost per item:\",money_format(np.median(np.array(list_of_items))))\n",
    "    print(\"Average cost per item based on total cost of all items:\",money_format(np.mean(np.array(list_of_items))))\n",
    "    return list_of_items"
   ]
  },
  {
   "cell_type": "code",
   "execution_count": 13,
   "id": "3031d678-c3cf-497b-ab6c-993614046a42",
   "metadata": {},
   "outputs": [
    {
     "name": "stdout",
     "output_type": "stream",
     "text": [
      "Median cost per item: $352\n",
      "Average cost per item based on total cost of all items: $357.92\n"
     ]
    }
   ],
   "source": [
    "list_items = AOV_find(data)"
   ]
  },
  {
   "cell_type": "markdown",
   "id": "a8c1d31b-f663-4150-8795-b12e5e49e0e1",
   "metadata": {},
   "source": [
    "# Plotting my data to see how it looks"
   ]
  },
  {
   "cell_type": "markdown",
   "id": "99f1fc0f-28f7-4d19-bb1d-cd115b3e31b6",
   "metadata": {},
   "source": [
    "## Histogram below will show average cost per item, regardless of how many sneakers were purchased in a transaction"
   ]
  },
  {
   "cell_type": "code",
   "execution_count": 20,
   "id": "8201c187-bd36-42c6-9c06-5cd86cc92c0b",
   "metadata": {},
   "outputs": [],
   "source": [
    "def hist_num_items():\n",
    "    counts, edges, plot = plt.hist(np.array(list_items), bins = 10)\n",
    "    plt.xlabel('cost per item / $')\n",
    "    plt.ylabel('Number of items sold')\n",
    "    plt.show()\n",
    "    #print(edges1)\n",
    "    print(\"Number of items sold in each bin that belongs to the above histogram:\\n\",counts)\n",
    "    plt.close()\n",
    "    return counts, edges"
   ]
  },
  {
   "cell_type": "code",
   "execution_count": 21,
   "id": "57ab192f-9c2c-4a00-b94c-0fd3e1931b95",
   "metadata": {},
   "outputs": [
    {
     "data": {
      "image/png": "[encoded data removed]",
      "text/plain": [
       "<Figure size 432x288 with 1 Axes>"
      ]
     },
     "metadata": {
      "needs_background": "light"
     },
     "output_type": "display_data"
    },
    {
     "name": "stdout",
     "output_type": "stream",
     "text": [
      "Number of items sold in each bin that belongs to the above histogram:\n",
      " [43848.     0.     0.     0.     0.     0.     0.     0.     0.    88.]\n"
     ]
    }
   ],
   "source": [
    "counts1,edges1 = hist_num_items()"
   ]
  },
  {
   "cell_type": "markdown",
   "id": "8e55ad4b-c2ab-4d25-a57d-c47a887664c3",
   "metadata": {},
   "source": [
    "There is clearly something skewing this data, so I should look out for why we have such extremes in pricing."
   ]
  },
  {
   "cell_type": "code",
   "execution_count": 22,
   "id": "bee6969b-6a84-472a-9c94-1441bad1531f",
   "metadata": {},
   "outputs": [],
   "source": [
    "data['average_cost_per_item'] = data['order_amount']/data['total_items']\n",
    "\n",
    "\n",
    "def hist_average_cost(data):\n",
    "\n",
    "\n",
    "    #Finding values greater than the average due to average cost being greater than the median cost\n",
    "\n",
    "    data.sort_values(by = 'average_cost_per_item')\n",
    "    counts, edges, plot = plt.hist(data['average_cost_per_item'], bins = 10)\n",
    "    plt.xlabel('Average price per item by shop / $')\n",
    "    plt.ylabel('Number of shops')\n",
    "    plt.show()\n",
    "    #print(edges2)\n",
    "    #print((edges2[8]-edges2[7])/2)\n",
    "    print(\"Number of shops that belong to each average price bin that belongs to the above histogram:\\n\",counts)\n",
    "    plt.close()\n",
    "    return counts,edges"
   ]
  },
  {
   "cell_type": "code",
   "execution_count": 23,
   "id": "ded0a608-1db7-40ce-87f2-37e8471609c3",
   "metadata": {},
   "outputs": [
    {
     "data": {
      "image/png": "[encoded data removed]",
      "text/plain": [
       "<Figure size 432x288 with 1 Axes>"
      ]
     },
     "metadata": {
      "needs_background": "light"
     },
     "output_type": "display_data"
    },
    {
     "name": "stdout",
     "output_type": "stream",
     "text": [
      "Number of shops that belong to each average price bin that belongs to the above histogram:\n",
      " [4954.    0.    0.    0.    0.    0.    0.    0.    0.   46.]\n"
     ]
    }
   ],
   "source": [
    "counts2, edges2 = hist_average_cost(data)"
   ]
  },
  {
   "cell_type": "markdown",
   "id": "3f1d23f2-d181-41d6-89de-9d284ee7cd8f",
   "metadata": {},
   "source": [
    "## Comparing the size of bins and count of each bin shows that the each transaction does not equate to a single item purchased\n",
    "Bin edges align and confirm that all data is accounted for.\n",
    "\n",
    "Count of each bin lines up for the middle, but not the extremes.\n",
    "\n",
    "### This gives me some confirmation that I can possibly omit these higher prices. This is possibly caused by a currency difference or a very high spike in demand, which is unlikely\n",
    "Further investigation into the latter is pending, but perhaps can be confirmed via a line plot based on time of transactions"
   ]
  },
  {
   "cell_type": "code",
   "execution_count": 24,
   "id": "e9f32640-5dcc-4e02-81e9-a2cdf36d5196",
   "metadata": {},
   "outputs": [
    {
     "name": "stdout",
     "output_type": "stream",
     "text": [
      "[ True  True  True  True  True  True  True  True  True  True  True]\n"
     ]
    }
   ],
   "source": [
    "print(edges1 == edges2)"
   ]
  },
  {
   "cell_type": "code",
   "execution_count": 25,
   "id": "ef85215e-5e3b-4550-a181-6115d8c82f5b",
   "metadata": {},
   "outputs": [
    {
     "name": "stdout",
     "output_type": "stream",
     "text": [
      "[False  True  True  True  True  True  True  True  True False]\n"
     ]
    }
   ],
   "source": [
    "print(counts1 == counts2)"
   ]
  },
  {
   "cell_type": "markdown",
   "id": "5bff213d-3ce0-4cbc-96eb-a783a5c021cf",
   "metadata": {},
   "source": [
    "### THIS IS SHOWING THAT THERE IS A STORE OR A FEW STORES THAT ARE CHARGING A VERY HIGH PRICE FOR SNEAKERS ON AVERAGE\n",
    "### 88 PAIRS OF SNEAKERS SOLD IN 46 TRANSACTIONS at the extreme of pricing (>$20000/pair), but \n",
    "\n",
    "***\n",
    "This made me want to know what other \"abnormalities\" or unique values per column that may exist.\n",
    "First, I looked at the x-axis parameters from the above histograms.\n"
   ]
  },
  {
   "cell_type": "code",
   "execution_count": 26,
   "id": "6d7d86d2-2771-44cf-9906-cc80c05ef5bf",
   "metadata": {},
   "outputs": [
    {
     "name": "stdout",
     "output_type": "stream",
     "text": [
      "Total Items: [   2    1    4    3    5    6 2000    8]\n",
      "Unique Average Cost per Item: [  158.    94.   148.   128.   142.   187.   112.   132.   118.   184.\n",
      "   201.   160.   116.   153.   156.   176.   163.   127.   146.   140.\n",
      "   130.   169.   164.   129.   101.   173.   122.   190.   134.   161.\n",
      "   352.   181.   144.   166.   145.   117.   193.   133.   171.   147.\n",
      "   138.   178.   177.   136.   154.   131.   165.   155. 25725.   172.\n",
      "   149.   196.    90.   114.   168.   162.   195.   111.]\n"
     ]
    }
   ],
   "source": [
    "print(\"Total Items:\",data['total_items'].unique())\n",
    "print(\"Unique Average Cost per Item:\",data['average_cost_per_item'].unique())"
   ]
  },
  {
   "cell_type": "markdown",
   "id": "1fce4e17-5a33-4f0e-8967-7ae1c760466c",
   "metadata": {},
   "source": [
    "## Looking at the the first list, \"Total Items\", which is the unique number of items purchased per order, one value stands out: 2000 sneakers purchased per order\n",
    "\n",
    "## The next list, \"Unique Average Cost per Item,\" shows that there are sneakers being purchased for \\\\$25725 per pair. This is the anomalous finding as depicted from this histogram\n",
    "***\n",
    "Then I moved towards understanding the other columns.\n"
   ]
  },
  {
   "cell_type": "code",
   "execution_count": 27,
   "id": "2c25ee1e-14f2-42d1-a62d-d4d74cdd2bdb",
   "metadata": {},
   "outputs": [
    {
     "name": "stdout",
     "output_type": "stream",
     "text": [
      "order_id                 5000\n",
      "shop_id                   100\n",
      "user_id                   301\n",
      "order_amount              258\n",
      "total_items                 8\n",
      "payment_method              3\n",
      "created_at               4702\n",
      "average_cost_per_item      58\n",
      "dtype: int64\n"
     ]
    }
   ],
   "source": [
    "print(data.nunique())"
   ]
  },
  {
   "cell_type": "markdown",
   "id": "4a0a8d6f-b59d-449f-95ab-2b9bf006efeb",
   "metadata": {},
   "source": [
    "### The details above show that there are 5000 unique orders and 100 unique shop ids, which we knew. These 100 shops sold these sneakers are 58 different prices, accepted 3 different payment methods, and sold 8 different quantities of sneakers per order. The latter quantity and the average price per item have already been found (shown 2 blocks of code above)"
   ]
  },
  {
   "cell_type": "markdown",
   "id": "294faad2-5cb6-4906-b516-a3a66205c2eb",
   "metadata": {},
   "source": [
    "### Fixing the 'created_at' column to be of datetime format"
   ]
  },
  {
   "cell_type": "code",
   "execution_count": 28,
   "id": "f000a261-fb07-4c52-a1e3-53c84ec05e69",
   "metadata": {},
   "outputs": [],
   "source": [
    "data['transaction_time'] = pd.to_datetime(data['created_at']).dt.strftime('%m/%d/%Y %H:%M')"
   ]
  },
  {
   "cell_type": "markdown",
   "id": "2237e950-9800-4172-97f2-61d1e6a503dc",
   "metadata": {},
   "source": [
    "### Adding a month column for better datetime management in plots"
   ]
  },
  {
   "cell_type": "code",
   "execution_count": 29,
   "id": "93bcd5ab-3584-4706-9399-0fd466965f3a",
   "metadata": {},
   "outputs": [],
   "source": [
    "data['month'] = pd.to_datetime(data['created_at']).dt.strftime('%m/%Y')"
   ]
  },
  {
   "cell_type": "markdown",
   "id": "d9224fab-5b4b-4961-9398-0259a213933a",
   "metadata": {},
   "source": [
    "***"
   ]
  },
  {
   "cell_type": "code",
   "execution_count": 30,
   "id": "b115f5ac-98ea-49cb-b840-47eccc0d4e81",
   "metadata": {},
   "outputs": [],
   "source": [
    "def line_average_cost_per_pair():\n",
    "    data.plot(kind = \"line\", x = 'month', y = 'average_cost_per_item', title = 'Average Cost per Pair of Sneakers based on Time of Transaction')\n",
    "    plt.xticks(rotation = '45')\n",
    "    plt.show()\n",
    "    plt.close()"
   ]
  },
  {
   "cell_type": "code",
   "execution_count": 31,
   "id": "fb43a6f3-28f7-4480-b104-f2cdd4754b44",
   "metadata": {},
   "outputs": [
    {
     "data": {
      "image/png": "[encoded data removed]",
      "text/plain": [
       "<Figure size 432x288 with 1 Axes>"
      ]
     },
     "metadata": {
      "needs_background": "light"
     },
     "output_type": "display_data"
    }
   ],
   "source": [
    "line_average_cost_per_pair()"
   ]
  },
  {
   "cell_type": "markdown",
   "id": "9b449810-a29e-4ad2-ab13-6b44d7892c54",
   "metadata": {},
   "source": [
    "## It appears that around March 2017, the price for sneakers spiked to approximately $25725, but then immediately went back down. This is an indicator that either a merchant error occurred or the currency type is wrong.\n",
    "I am removing data associated with this from further consideration and recompute the average and median"
   ]
  },
  {
   "cell_type": "code",
   "execution_count": 32,
   "id": "6e29c5c6-5e80-42ef-ad4f-8a2255155d06",
   "metadata": {},
   "outputs": [
    {
     "name": "stdout",
     "output_type": "stream",
     "text": [
      "25725.0\n"
     ]
    }
   ],
   "source": [
    "original_data = data\n",
    "print(data['average_cost_per_item'].max())\n",
    "data = data[data['average_cost_per_item'] != data['average_cost_per_item'].max()]"
   ]
  },
  {
   "cell_type": "code",
   "execution_count": 34,
   "id": "c33c6e69-c307-441f-93fc-515460ebf0f1",
   "metadata": {},
   "outputs": [
    {
     "name": "stdout",
     "output_type": "stream",
     "text": [
      "Median cost per item: $352\n",
      "Average cost per item based on total cost of all items: $307.01\n"
     ]
    }
   ],
   "source": [
    "list_items_2 = AOV_find(data)"
   ]
  },
  {
   "cell_type": "markdown",
   "id": "639ec43d-eab5-4e0e-b6ca-dc78fd09ebbc",
   "metadata": {},
   "source": [
    "\n",
    "## Removing the extreme prices to get a better idea of the AOV\n",
    "The average and median order value dropped significantly. Redoing the line plot from above should give us a better indication of how price changed over time\n"
   ]
  },
  {
   "cell_type": "markdown",
   "id": "88cdd849-aad5-424d-ac1f-81fae82914cc",
   "metadata": {},
   "source": [
    "### The line plot below shows that the AOV is seems appropriate, except for the peak around March 2017. Further investigation is required"
   ]
  },
  {
   "cell_type": "code",
   "execution_count": 35,
   "id": "c48591b2-f27d-4239-a892-a2e975c6de20",
   "metadata": {},
   "outputs": [
    {
     "data": {
      "image/png": "[encoded data removed]",
      "text/plain": [
       "<Figure size 432x288 with 1 Axes>"
      ]
     },
     "metadata": {
      "needs_background": "light"
     },
     "output_type": "display_data"
    }
   ],
   "source": [
    "line_average_cost_per_pair()"
   ]
  },
  {
   "cell_type": "markdown",
   "id": "579d481c-6a4a-4378-bf0a-65d290ee63a0",
   "metadata": {},
   "source": [
    "## While the three line graphs below seem to portray similar information, the first two line plots are based on the cost per order and items per order, both with respect to time. These two show us that there is an anomaly. \n",
    "\n",
    "## The third line plot is indicative of average cost of sneakers per order with respect to time.\n",
    "### Histogram of average cost of each sneaker confirms as well"
   ]
  },
  {
   "cell_type": "code",
   "execution_count": 36,
   "id": "9cd6b6a9-267f-4ca3-a7cd-802de18fc879",
   "metadata": {
    "tags": []
   },
   "outputs": [
    {
     "data": {
      "image/png": "[encoded data removed]",
      "text/plain": [
       "<Figure size 432x288 with 1 Axes>"
      ]
     },
     "metadata": {
      "needs_background": "light"
     },
     "output_type": "display_data"
    },
    {
     "data": {
      "image/png": "[encoded data removed]",
      "text/plain": [
       "<Figure size 432x288 with 1 Axes>"
      ]
     },
     "metadata": {
      "needs_background": "light"
     },
     "output_type": "display_data"
    },
    {
     "data": {
      "image/png": "[encoded data removed]",
      "text/plain": [
       "<Figure size 432x288 with 1 Axes>"
      ]
     },
     "metadata": {
      "needs_background": "light"
     },
     "output_type": "display_data"
    }
   ],
   "source": [
    "#data['month'] = pd.to_datetime(data['created_at']).dt.strftime('%m/%Y')\n",
    "time_based = data\n",
    "time_based.set_index('month',inplace = True)\n",
    "time_based.groupby('payment_method')['order_amount'].plot(legend = True, x_compat=True, alpha = 0.6, title = 'Total Cost per Transaction based on Time of Transaction')\n",
    "plt.xticks(rotation = '45')\n",
    "plt.xlabel('time / months')\n",
    "plt.ylabel('Cost per Order')\n",
    "plt.show()\n",
    "plt.close()\n",
    "time_based.groupby('payment_method')['total_items'].plot(legend = True, x_compat=True, alpha = 0.6, title = 'Number of Sneakers Purchased based on Time of Transaction')\n",
    "plt.xticks(rotation = '45')\n",
    "plt.xlabel('time / months')\n",
    "plt.ylabel('Number of Sneakers per Order')\n",
    "plt.show()\n",
    "plt.close()\n",
    "\n",
    "\n",
    "#print(time_based)\n",
    "time_based.groupby('payment_method')['average_cost_per_item'].plot(legend = True, x_compat=True, alpha = 0.6, title = 'Average Cost of Each Pair of Sneakers per Order based on Time of Transaction')\n",
    "plt.xticks(rotation = '45')\n",
    "plt.xlabel('time / months')\n",
    "plt.ylabel('Average Cost of Sneakers per Order')\n",
    "plt.show()\n",
    "plt.close()\n",
    "\n",
    "\n"
   ]
  },
  {
   "cell_type": "markdown",
   "id": "cbbbdd34-6411-4605-8e16-4912fc667284",
   "metadata": {},
   "source": [
    "That anomalous average cost per sneaker, around $350, is interesting. I want to find what that is and where it is from."
   ]
  },
  {
   "cell_type": "markdown",
   "id": "f240ee0b-a674-493f-bb76-1cb4ba53b4a6",
   "metadata": {},
   "source": [
    "### The bar chart shows the higher priced sneakers are likely from one store, more investigation required"
   ]
  },
  {
   "cell_type": "code",
   "execution_count": 37,
   "id": "358c081f-d4b1-4cef-a98c-9b8dd936d52f",
   "metadata": {},
   "outputs": [
    {
     "data": {
      "image/png": "[encoded data removed]",
      "text/plain": [
       "<Figure size 432x288 with 1 Axes>"
      ]
     },
     "metadata": {
      "needs_background": "light"
     },
     "output_type": "display_data"
    },
    {
     "name": "stdout",
     "output_type": "stream",
     "text": [
      "Number of shops that belong to each average price bin that belongs to the above histogram:\n",
      " [ 420. 1478. 1847.  990.  168.    0.    0.    0.    0.   51.]\n"
     ]
    }
   ],
   "source": [
    "counts_42, edges_42 = hist_average_cost(data)"
   ]
  },
  {
   "cell_type": "code",
   "execution_count": 38,
   "id": "5d7f3bd5-e7ca-4cfa-ba7c-4da82859803d",
   "metadata": {},
   "outputs": [
    {
     "name": "stdout",
     "output_type": "stream",
     "text": [
      "352.0\n"
     ]
    }
   ],
   "source": [
    "print(data['average_cost_per_item'].max())"
   ]
  },
  {
   "cell_type": "code",
   "execution_count": 39,
   "id": "4fdc470c-3d64-4a0a-91bb-019ce353df95",
   "metadata": {},
   "outputs": [
    {
     "data": {
      "image/png": "[encoded data removed]",
      "text/plain": [
       "<Figure size 432x288 with 1 Axes>"
      ]
     },
     "metadata": {
      "needs_background": "light"
     },
     "output_type": "display_data"
    }
   ],
   "source": [
    "plt.bar(data['shop_id'],data['total_items'])\n",
    "plt.xlabel('shop id')\n",
    "plt.ylabel('number of sneakers sold')\n",
    "plt.show()"
   ]
  },
  {
   "cell_type": "markdown",
   "id": "592de846-ad89-41e0-830e-7bcf2263e4be",
   "metadata": {},
   "source": [
    "***\n",
    "## Showing dataframe again, but only for the store that has the abnormal high sneaker cost\n",
    "Another assumption, the store that is selling for a higher cost may be bundling the sneakers with another pair of sneakers or another item. "
   ]
  },
  {
   "cell_type": "code",
   "execution_count": 40,
   "id": "9af941b7-cf96-4d1d-8324-b1cfe85bd67b",
   "metadata": {},
   "outputs": [
    {
     "data": {
      "text/html": [
       "<div>\n",
       "<style scoped>\n",
       "    .dataframe tbody tr th:only-of-type {\n",
       "        vertical-align: middle;\n",
       "    }\n",
       "\n",
       "    .dataframe tbody tr th {\n",
       "        vertical-align: top;\n",
       "    }\n",
       "\n",
       "    .dataframe thead th {\n",
       "        text-align: right;\n",
       "    }\n",
       "</style>\n",
       "<table border=\"1\" class=\"dataframe\">\n",
       "  <thead>\n",
       "    <tr style=\"text-align: right;\">\n",
       "      <th></th>\n",
       "      <th></th>\n",
       "      <th>order_id</th>\n",
       "      <th>shop_id</th>\n",
       "      <th>order_amount</th>\n",
       "      <th>total_items</th>\n",
       "      <th>payment_method</th>\n",
       "      <th>created_at</th>\n",
       "      <th>average_cost_per_item</th>\n",
       "    </tr>\n",
       "    <tr>\n",
       "      <th>user_id</th>\n",
       "      <th>transaction_time</th>\n",
       "      <th></th>\n",
       "      <th></th>\n",
       "      <th></th>\n",
       "      <th></th>\n",
       "      <th></th>\n",
       "      <th></th>\n",
       "      <th></th>\n",
       "    </tr>\n",
       "  </thead>\n",
       "  <tbody>\n",
       "    <tr>\n",
       "      <th rowspan=\"17\" valign=\"top\">607</th>\n",
       "      <th>03/02/2017 04:00</th>\n",
       "      <td>521</td>\n",
       "      <td>42</td>\n",
       "      <td>704000</td>\n",
       "      <td>2000</td>\n",
       "      <td>credit_card</td>\n",
       "      <td>3/2/2017 4:00</td>\n",
       "      <td>352.0</td>\n",
       "    </tr>\n",
       "    <tr>\n",
       "      <th>03/02/2017 04:00</th>\n",
       "      <td>4647</td>\n",
       "      <td>42</td>\n",
       "      <td>704000</td>\n",
       "      <td>2000</td>\n",
       "      <td>credit_card</td>\n",
       "      <td>3/2/2017 4:00</td>\n",
       "      <td>352.0</td>\n",
       "    </tr>\n",
       "    <tr>\n",
       "      <th>03/04/2017 04:00</th>\n",
       "      <td>61</td>\n",
       "      <td>42</td>\n",
       "      <td>704000</td>\n",
       "      <td>2000</td>\n",
       "      <td>credit_card</td>\n",
       "      <td>3/4/2017 4:00</td>\n",
       "      <td>352.0</td>\n",
       "    </tr>\n",
       "    <tr>\n",
       "      <th>03/07/2017 04:00</th>\n",
       "      <td>16</td>\n",
       "      <td>42</td>\n",
       "      <td>704000</td>\n",
       "      <td>2000</td>\n",
       "      <td>credit_card</td>\n",
       "      <td>3/7/2017 4:00</td>\n",
       "      <td>352.0</td>\n",
       "    </tr>\n",
       "    <tr>\n",
       "      <th>03/07/2017 04:00</th>\n",
       "      <td>2298</td>\n",
       "      <td>42</td>\n",
       "      <td>704000</td>\n",
       "      <td>2000</td>\n",
       "      <td>credit_card</td>\n",
       "      <td>3/7/2017 4:00</td>\n",
       "      <td>352.0</td>\n",
       "    </tr>\n",
       "    <tr>\n",
       "      <th>03/11/2017 04:00</th>\n",
       "      <td>1437</td>\n",
       "      <td>42</td>\n",
       "      <td>704000</td>\n",
       "      <td>2000</td>\n",
       "      <td>credit_card</td>\n",
       "      <td>3/11/2017 4:00</td>\n",
       "      <td>352.0</td>\n",
       "    </tr>\n",
       "    <tr>\n",
       "      <th>03/12/2017 04:00</th>\n",
       "      <td>2154</td>\n",
       "      <td>42</td>\n",
       "      <td>704000</td>\n",
       "      <td>2000</td>\n",
       "      <td>credit_card</td>\n",
       "      <td>3/12/2017 4:00</td>\n",
       "      <td>352.0</td>\n",
       "    </tr>\n",
       "    <tr>\n",
       "      <th>03/15/2017 04:00</th>\n",
       "      <td>1363</td>\n",
       "      <td>42</td>\n",
       "      <td>704000</td>\n",
       "      <td>2000</td>\n",
       "      <td>credit_card</td>\n",
       "      <td>3/15/2017 4:00</td>\n",
       "      <td>352.0</td>\n",
       "    </tr>\n",
       "    <tr>\n",
       "      <th>03/17/2017 04:00</th>\n",
       "      <td>1603</td>\n",
       "      <td>42</td>\n",
       "      <td>704000</td>\n",
       "      <td>2000</td>\n",
       "      <td>credit_card</td>\n",
       "      <td>3/17/2017 4:00</td>\n",
       "      <td>352.0</td>\n",
       "    </tr>\n",
       "    <tr>\n",
       "      <th>03/19/2017 04:00</th>\n",
       "      <td>1563</td>\n",
       "      <td>42</td>\n",
       "      <td>704000</td>\n",
       "      <td>2000</td>\n",
       "      <td>credit_card</td>\n",
       "      <td>3/19/2017 4:00</td>\n",
       "      <td>352.0</td>\n",
       "    </tr>\n",
       "    <tr>\n",
       "      <th>03/22/2017 04:00</th>\n",
       "      <td>4869</td>\n",
       "      <td>42</td>\n",
       "      <td>704000</td>\n",
       "      <td>2000</td>\n",
       "      <td>credit_card</td>\n",
       "      <td>3/22/2017 4:00</td>\n",
       "      <td>352.0</td>\n",
       "    </tr>\n",
       "    <tr>\n",
       "      <th>03/24/2017 04:00</th>\n",
       "      <td>1105</td>\n",
       "      <td>42</td>\n",
       "      <td>704000</td>\n",
       "      <td>2000</td>\n",
       "      <td>credit_card</td>\n",
       "      <td>3/24/2017 4:00</td>\n",
       "      <td>352.0</td>\n",
       "    </tr>\n",
       "    <tr>\n",
       "      <th>03/24/2017 04:00</th>\n",
       "      <td>3333</td>\n",
       "      <td>42</td>\n",
       "      <td>704000</td>\n",
       "      <td>2000</td>\n",
       "      <td>credit_card</td>\n",
       "      <td>3/24/2017 4:00</td>\n",
       "      <td>352.0</td>\n",
       "    </tr>\n",
       "    <tr>\n",
       "      <th>03/25/2017 04:00</th>\n",
       "      <td>4883</td>\n",
       "      <td>42</td>\n",
       "      <td>704000</td>\n",
       "      <td>2000</td>\n",
       "      <td>credit_card</td>\n",
       "      <td>3/25/2017 4:00</td>\n",
       "      <td>352.0</td>\n",
       "    </tr>\n",
       "    <tr>\n",
       "      <th>03/28/2017 04:00</th>\n",
       "      <td>2836</td>\n",
       "      <td>42</td>\n",
       "      <td>704000</td>\n",
       "      <td>2000</td>\n",
       "      <td>credit_card</td>\n",
       "      <td>3/28/2017 4:00</td>\n",
       "      <td>352.0</td>\n",
       "    </tr>\n",
       "    <tr>\n",
       "      <th>03/28/2017 04:00</th>\n",
       "      <td>2970</td>\n",
       "      <td>42</td>\n",
       "      <td>704000</td>\n",
       "      <td>2000</td>\n",
       "      <td>credit_card</td>\n",
       "      <td>3/28/2017 4:00</td>\n",
       "      <td>352.0</td>\n",
       "    </tr>\n",
       "    <tr>\n",
       "      <th>03/28/2017 04:00</th>\n",
       "      <td>4057</td>\n",
       "      <td>42</td>\n",
       "      <td>704000</td>\n",
       "      <td>2000</td>\n",
       "      <td>credit_card</td>\n",
       "      <td>3/28/2017 4:00</td>\n",
       "      <td>352.0</td>\n",
       "    </tr>\n",
       "    <tr>\n",
       "      <th>720</th>\n",
       "      <th>03/14/2017 10:26</th>\n",
       "      <td>4768</td>\n",
       "      <td>42</td>\n",
       "      <td>704</td>\n",
       "      <td>2</td>\n",
       "      <td>credit_card</td>\n",
       "      <td>3/14/2017 10:26</td>\n",
       "      <td>352.0</td>\n",
       "    </tr>\n",
       "    <tr>\n",
       "      <th>726</th>\n",
       "      <th>03/24/2017 17:51</th>\n",
       "      <td>3514</td>\n",
       "      <td>42</td>\n",
       "      <td>1056</td>\n",
       "      <td>3</td>\n",
       "      <td>debit</td>\n",
       "      <td>3/24/2017 17:51</td>\n",
       "      <td>352.0</td>\n",
       "    </tr>\n",
       "    <tr>\n",
       "      <th>736</th>\n",
       "      <th>03/01/2017 12:19</th>\n",
       "      <td>4422</td>\n",
       "      <td>42</td>\n",
       "      <td>704</td>\n",
       "      <td>2</td>\n",
       "      <td>credit_card</td>\n",
       "      <td>3/1/2017 12:19</td>\n",
       "      <td>352.0</td>\n",
       "    </tr>\n",
       "    <tr>\n",
       "      <th rowspan=\"2\" valign=\"top\">739</th>\n",
       "      <th>03/01/2017 12:42</th>\n",
       "      <td>2019</td>\n",
       "      <td>42</td>\n",
       "      <td>352</td>\n",
       "      <td>1</td>\n",
       "      <td>debit</td>\n",
       "      <td>3/1/2017 12:42</td>\n",
       "      <td>352.0</td>\n",
       "    </tr>\n",
       "    <tr>\n",
       "      <th>03/07/2017 05:42</th>\n",
       "      <td>1912</td>\n",
       "      <td>42</td>\n",
       "      <td>704</td>\n",
       "      <td>2</td>\n",
       "      <td>cash</td>\n",
       "      <td>3/7/2017 5:42</td>\n",
       "      <td>352.0</td>\n",
       "    </tr>\n",
       "    <tr>\n",
       "      <th>744</th>\n",
       "      <th>03/12/2017 13:09</th>\n",
       "      <td>980</td>\n",
       "      <td>42</td>\n",
       "      <td>352</td>\n",
       "      <td>1</td>\n",
       "      <td>debit</td>\n",
       "      <td>3/12/2017 13:09</td>\n",
       "      <td>352.0</td>\n",
       "    </tr>\n",
       "    <tr>\n",
       "      <th>747</th>\n",
       "      <th>03/27/2017 20:48</th>\n",
       "      <td>2274</td>\n",
       "      <td>42</td>\n",
       "      <td>704</td>\n",
       "      <td>2</td>\n",
       "      <td>debit</td>\n",
       "      <td>3/27/2017 20:48</td>\n",
       "      <td>352.0</td>\n",
       "    </tr>\n",
       "    <tr>\n",
       "      <th>756</th>\n",
       "      <th>03/22/2017 13:10</th>\n",
       "      <td>1521</td>\n",
       "      <td>42</td>\n",
       "      <td>704</td>\n",
       "      <td>2</td>\n",
       "      <td>debit</td>\n",
       "      <td>3/22/2017 13:10</td>\n",
       "      <td>352.0</td>\n",
       "    </tr>\n",
       "    <tr>\n",
       "      <th rowspan=\"2\" valign=\"top\">770</th>\n",
       "      <th>03/11/2017 18:14</th>\n",
       "      <td>309</td>\n",
       "      <td>42</td>\n",
       "      <td>352</td>\n",
       "      <td>1</td>\n",
       "      <td>credit_card</td>\n",
       "      <td>3/11/2017 18:14</td>\n",
       "      <td>352.0</td>\n",
       "    </tr>\n",
       "    <tr>\n",
       "      <th>03/17/2017 08:11</th>\n",
       "      <td>1930</td>\n",
       "      <td>42</td>\n",
       "      <td>352</td>\n",
       "      <td>1</td>\n",
       "      <td>credit_card</td>\n",
       "      <td>3/17/2017 8:11</td>\n",
       "      <td>352.0</td>\n",
       "    </tr>\n",
       "    <tr>\n",
       "      <th>788</th>\n",
       "      <th>03/16/2017 23:37</th>\n",
       "      <td>4327</td>\n",
       "      <td>42</td>\n",
       "      <td>704</td>\n",
       "      <td>2</td>\n",
       "      <td>debit</td>\n",
       "      <td>3/16/2017 23:37</td>\n",
       "      <td>352.0</td>\n",
       "    </tr>\n",
       "    <tr>\n",
       "      <th>792</th>\n",
       "      <th>03/25/2017 21:31</th>\n",
       "      <td>835</td>\n",
       "      <td>42</td>\n",
       "      <td>352</td>\n",
       "      <td>1</td>\n",
       "      <td>cash</td>\n",
       "      <td>3/25/2017 21:31</td>\n",
       "      <td>352.0</td>\n",
       "    </tr>\n",
       "    <tr>\n",
       "      <th>793</th>\n",
       "      <th>03/24/2017 14:15</th>\n",
       "      <td>41</td>\n",
       "      <td>42</td>\n",
       "      <td>352</td>\n",
       "      <td>1</td>\n",
       "      <td>credit_card</td>\n",
       "      <td>3/24/2017 14:15</td>\n",
       "      <td>352.0</td>\n",
       "    </tr>\n",
       "    <tr>\n",
       "      <th>797</th>\n",
       "      <th>03/10/2017 06:28</th>\n",
       "      <td>1365</td>\n",
       "      <td>42</td>\n",
       "      <td>1760</td>\n",
       "      <td>5</td>\n",
       "      <td>cash</td>\n",
       "      <td>3/10/2017 6:28</td>\n",
       "      <td>352.0</td>\n",
       "    </tr>\n",
       "    <tr>\n",
       "      <th>808</th>\n",
       "      <th>03/13/2017 23:43</th>\n",
       "      <td>939</td>\n",
       "      <td>42</td>\n",
       "      <td>1056</td>\n",
       "      <td>3</td>\n",
       "      <td>credit_card</td>\n",
       "      <td>3/13/2017 23:43</td>\n",
       "      <td>352.0</td>\n",
       "    </tr>\n",
       "    <tr>\n",
       "      <th>809</th>\n",
       "      <th>03/11/2017 08:21</th>\n",
       "      <td>4626</td>\n",
       "      <td>42</td>\n",
       "      <td>352</td>\n",
       "      <td>1</td>\n",
       "      <td>credit_card</td>\n",
       "      <td>3/11/2017 8:21</td>\n",
       "      <td>352.0</td>\n",
       "    </tr>\n",
       "    <tr>\n",
       "      <th rowspan=\"2\" valign=\"top\">819</th>\n",
       "      <th>03/03/2017 09:09</th>\n",
       "      <td>2988</td>\n",
       "      <td>42</td>\n",
       "      <td>1056</td>\n",
       "      <td>3</td>\n",
       "      <td>cash</td>\n",
       "      <td>3/3/2017 9:09</td>\n",
       "      <td>352.0</td>\n",
       "    </tr>\n",
       "    <tr>\n",
       "      <th>03/09/2017 14:15</th>\n",
       "      <td>836</td>\n",
       "      <td>42</td>\n",
       "      <td>704</td>\n",
       "      <td>2</td>\n",
       "      <td>cash</td>\n",
       "      <td>3/9/2017 14:15</td>\n",
       "      <td>352.0</td>\n",
       "    </tr>\n",
       "    <tr>\n",
       "      <th>830</th>\n",
       "      <th>03/24/2017 22:26</th>\n",
       "      <td>3652</td>\n",
       "      <td>42</td>\n",
       "      <td>352</td>\n",
       "      <td>1</td>\n",
       "      <td>credit_card</td>\n",
       "      <td>3/24/2017 22:26</td>\n",
       "      <td>352.0</td>\n",
       "    </tr>\n",
       "    <tr>\n",
       "      <th>839</th>\n",
       "      <th>03/12/2017 02:45</th>\n",
       "      <td>3698</td>\n",
       "      <td>42</td>\n",
       "      <td>352</td>\n",
       "      <td>1</td>\n",
       "      <td>debit</td>\n",
       "      <td>3/12/2017 2:45</td>\n",
       "      <td>352.0</td>\n",
       "    </tr>\n",
       "    <tr>\n",
       "      <th>859</th>\n",
       "      <th>03/24/2017 20:50</th>\n",
       "      <td>4295</td>\n",
       "      <td>42</td>\n",
       "      <td>704</td>\n",
       "      <td>2</td>\n",
       "      <td>cash</td>\n",
       "      <td>3/24/2017 20:50</td>\n",
       "      <td>352.0</td>\n",
       "    </tr>\n",
       "    <tr>\n",
       "      <th rowspan=\"2\" valign=\"top\">868</th>\n",
       "      <th>03/01/2017 18:33</th>\n",
       "      <td>2492</td>\n",
       "      <td>42</td>\n",
       "      <td>704</td>\n",
       "      <td>2</td>\n",
       "      <td>debit</td>\n",
       "      <td>3/1/2017 18:33</td>\n",
       "      <td>352.0</td>\n",
       "    </tr>\n",
       "    <tr>\n",
       "      <th>03/23/2017 18:10</th>\n",
       "      <td>2610</td>\n",
       "      <td>42</td>\n",
       "      <td>704</td>\n",
       "      <td>2</td>\n",
       "      <td>debit</td>\n",
       "      <td>3/23/2017 18:10</td>\n",
       "      <td>352.0</td>\n",
       "    </tr>\n",
       "    <tr>\n",
       "      <th>872</th>\n",
       "      <th>03/24/2017 00:57</th>\n",
       "      <td>4746</td>\n",
       "      <td>42</td>\n",
       "      <td>352</td>\n",
       "      <td>1</td>\n",
       "      <td>debit</td>\n",
       "      <td>3/24/2017 0:57</td>\n",
       "      <td>352.0</td>\n",
       "    </tr>\n",
       "    <tr>\n",
       "      <th>886</th>\n",
       "      <th>03/09/2017 20:10</th>\n",
       "      <td>3999</td>\n",
       "      <td>42</td>\n",
       "      <td>352</td>\n",
       "      <td>1</td>\n",
       "      <td>debit</td>\n",
       "      <td>3/9/2017 20:10</td>\n",
       "      <td>352.0</td>\n",
       "    </tr>\n",
       "    <tr>\n",
       "      <th>904</th>\n",
       "      <th>03/04/2017 14:32</th>\n",
       "      <td>410</td>\n",
       "      <td>42</td>\n",
       "      <td>704</td>\n",
       "      <td>2</td>\n",
       "      <td>credit_card</td>\n",
       "      <td>3/4/2017 14:32</td>\n",
       "      <td>352.0</td>\n",
       "    </tr>\n",
       "    <tr>\n",
       "      <th>907</th>\n",
       "      <th>03/12/2017 23:00</th>\n",
       "      <td>1472</td>\n",
       "      <td>42</td>\n",
       "      <td>1408</td>\n",
       "      <td>4</td>\n",
       "      <td>debit</td>\n",
       "      <td>3/12/2017 23:00</td>\n",
       "      <td>352.0</td>\n",
       "    </tr>\n",
       "    <tr>\n",
       "      <th>926</th>\n",
       "      <th>03/13/2017 02:38</th>\n",
       "      <td>1368</td>\n",
       "      <td>42</td>\n",
       "      <td>1408</td>\n",
       "      <td>4</td>\n",
       "      <td>cash</td>\n",
       "      <td>3/13/2017 2:38</td>\n",
       "      <td>352.0</td>\n",
       "    </tr>\n",
       "    <tr>\n",
       "      <th>934</th>\n",
       "      <th>03/26/2017 09:21</th>\n",
       "      <td>2004</td>\n",
       "      <td>42</td>\n",
       "      <td>704</td>\n",
       "      <td>2</td>\n",
       "      <td>cash</td>\n",
       "      <td>3/26/2017 9:21</td>\n",
       "      <td>352.0</td>\n",
       "    </tr>\n",
       "    <tr>\n",
       "      <th>946</th>\n",
       "      <th>03/24/2017 13:35</th>\n",
       "      <td>1513</td>\n",
       "      <td>42</td>\n",
       "      <td>352</td>\n",
       "      <td>1</td>\n",
       "      <td>debit</td>\n",
       "      <td>3/24/2017 13:35</td>\n",
       "      <td>352.0</td>\n",
       "    </tr>\n",
       "    <tr>\n",
       "      <th>951</th>\n",
       "      <th>03/19/2017 11:49</th>\n",
       "      <td>2054</td>\n",
       "      <td>42</td>\n",
       "      <td>352</td>\n",
       "      <td>1</td>\n",
       "      <td>debit</td>\n",
       "      <td>3/19/2017 11:49</td>\n",
       "      <td>352.0</td>\n",
       "    </tr>\n",
       "    <tr>\n",
       "      <th>962</th>\n",
       "      <th>03/04/2017 00:01</th>\n",
       "      <td>4232</td>\n",
       "      <td>42</td>\n",
       "      <td>352</td>\n",
       "      <td>1</td>\n",
       "      <td>cash</td>\n",
       "      <td>3/4/2017 0:01</td>\n",
       "      <td>352.0</td>\n",
       "    </tr>\n",
       "    <tr>\n",
       "      <th>970</th>\n",
       "      <th>03/05/2017 10:45</th>\n",
       "      <td>2767</td>\n",
       "      <td>42</td>\n",
       "      <td>704</td>\n",
       "      <td>2</td>\n",
       "      <td>credit_card</td>\n",
       "      <td>3/5/2017 10:45</td>\n",
       "      <td>352.0</td>\n",
       "    </tr>\n",
       "    <tr>\n",
       "      <th>975</th>\n",
       "      <th>03/12/2017 01:28</th>\n",
       "      <td>3904</td>\n",
       "      <td>42</td>\n",
       "      <td>352</td>\n",
       "      <td>1</td>\n",
       "      <td>debit</td>\n",
       "      <td>3/12/2017 1:28</td>\n",
       "      <td>352.0</td>\n",
       "    </tr>\n",
       "  </tbody>\n",
       "</table>\n",
       "</div>"
      ],
      "text/plain": [
       "                          order_id  shop_id  order_amount  total_items  \\\n",
       "user_id transaction_time                                                 \n",
       "607     03/02/2017 04:00       521       42        704000         2000   \n",
       "        03/02/2017 04:00      4647       42        704000         2000   \n",
       "        03/04/2017 04:00        61       42        704000         2000   \n",
       "        03/07/2017 04:00        16       42        704000         2000   \n",
       "        03/07/2017 04:00      2298       42        704000         2000   \n",
       "        03/11/2017 04:00      1437       42        704000         2000   \n",
       "        03/12/2017 04:00      2154       42        704000         2000   \n",
       "        03/15/2017 04:00      1363       42        704000         2000   \n",
       "        03/17/2017 04:00      1603       42        704000         2000   \n",
       "        03/19/2017 04:00      1563       42        704000         2000   \n",
       "        03/22/2017 04:00      4869       42        704000         2000   \n",
       "        03/24/2017 04:00      1105       42        704000         2000   \n",
       "        03/24/2017 04:00      3333       42        704000         2000   \n",
       "        03/25/2017 04:00      4883       42        704000         2000   \n",
       "        03/28/2017 04:00      2836       42        704000         2000   \n",
       "        03/28/2017 04:00      2970       42        704000         2000   \n",
       "        03/28/2017 04:00      4057       42        704000         2000   \n",
       "720     03/14/2017 10:26      4768       42           704            2   \n",
       "726     03/24/2017 17:51      3514       42          1056            3   \n",
       "736     03/01/2017 12:19      4422       42           704            2   \n",
       "739     03/01/2017 12:42      2019       42           352            1   \n",
       "        03/07/2017 05:42      1912       42           704            2   \n",
       "744     03/12/2017 13:09       980       42           352            1   \n",
       "747     03/27/2017 20:48      2274       42           704            2   \n",
       "756     03/22/2017 13:10      1521       42           704            2   \n",
       "770     03/11/2017 18:14       309       42           352            1   \n",
       "        03/17/2017 08:11      1930       42           352            1   \n",
       "788     03/16/2017 23:37      4327       42           704            2   \n",
       "792     03/25/2017 21:31       835       42           352            1   \n",
       "793     03/24/2017 14:15        41       42           352            1   \n",
       "797     03/10/2017 06:28      1365       42          1760            5   \n",
       "808     03/13/2017 23:43       939       42          1056            3   \n",
       "809     03/11/2017 08:21      4626       42           352            1   \n",
       "819     03/03/2017 09:09      2988       42          1056            3   \n",
       "        03/09/2017 14:15       836       42           704            2   \n",
       "830     03/24/2017 22:26      3652       42           352            1   \n",
       "839     03/12/2017 02:45      3698       42           352            1   \n",
       "859     03/24/2017 20:50      4295       42           704            2   \n",
       "868     03/01/2017 18:33      2492       42           704            2   \n",
       "        03/23/2017 18:10      2610       42           704            2   \n",
       "872     03/24/2017 00:57      4746       42           352            1   \n",
       "886     03/09/2017 20:10      3999       42           352            1   \n",
       "904     03/04/2017 14:32       410       42           704            2   \n",
       "907     03/12/2017 23:00      1472       42          1408            4   \n",
       "926     03/13/2017 02:38      1368       42          1408            4   \n",
       "934     03/26/2017 09:21      2004       42           704            2   \n",
       "946     03/24/2017 13:35      1513       42           352            1   \n",
       "951     03/19/2017 11:49      2054       42           352            1   \n",
       "962     03/04/2017 00:01      4232       42           352            1   \n",
       "970     03/05/2017 10:45      2767       42           704            2   \n",
       "975     03/12/2017 01:28      3904       42           352            1   \n",
       "\n",
       "                         payment_method       created_at  \\\n",
       "user_id transaction_time                                   \n",
       "607     03/02/2017 04:00    credit_card    3/2/2017 4:00   \n",
       "        03/02/2017 04:00    credit_card    3/2/2017 4:00   \n",
       "        03/04/2017 04:00    credit_card    3/4/2017 4:00   \n",
       "        03/07/2017 04:00    credit_card    3/7/2017 4:00   \n",
       "        03/07/2017 04:00    credit_card    3/7/2017 4:00   \n",
       "        03/11/2017 04:00    credit_card   3/11/2017 4:00   \n",
       "        03/12/2017 04:00    credit_card   3/12/2017 4:00   \n",
       "        03/15/2017 04:00    credit_card   3/15/2017 4:00   \n",
       "        03/17/2017 04:00    credit_card   3/17/2017 4:00   \n",
       "        03/19/2017 04:00    credit_card   3/19/2017 4:00   \n",
       "        03/22/2017 04:00    credit_card   3/22/2017 4:00   \n",
       "        03/24/2017 04:00    credit_card   3/24/2017 4:00   \n",
       "        03/24/2017 04:00    credit_card   3/24/2017 4:00   \n",
       "        03/25/2017 04:00    credit_card   3/25/2017 4:00   \n",
       "        03/28/2017 04:00    credit_card   3/28/2017 4:00   \n",
       "        03/28/2017 04:00    credit_card   3/28/2017 4:00   \n",
       "        03/28/2017 04:00    credit_card   3/28/2017 4:00   \n",
       "720     03/14/2017 10:26    credit_card  3/14/2017 10:26   \n",
       "726     03/24/2017 17:51          debit  3/24/2017 17:51   \n",
       "736     03/01/2017 12:19    credit_card   3/1/2017 12:19   \n",
       "739     03/01/2017 12:42          debit   3/1/2017 12:42   \n",
       "        03/07/2017 05:42           cash    3/7/2017 5:42   \n",
       "744     03/12/2017 13:09          debit  3/12/2017 13:09   \n",
       "747     03/27/2017 20:48          debit  3/27/2017 20:48   \n",
       "756     03/22/2017 13:10          debit  3/22/2017 13:10   \n",
       "770     03/11/2017 18:14    credit_card  3/11/2017 18:14   \n",
       "        03/17/2017 08:11    credit_card   3/17/2017 8:11   \n",
       "788     03/16/2017 23:37          debit  3/16/2017 23:37   \n",
       "792     03/25/2017 21:31           cash  3/25/2017 21:31   \n",
       "793     03/24/2017 14:15    credit_card  3/24/2017 14:15   \n",
       "797     03/10/2017 06:28           cash   3/10/2017 6:28   \n",
       "808     03/13/2017 23:43    credit_card  3/13/2017 23:43   \n",
       "809     03/11/2017 08:21    credit_card   3/11/2017 8:21   \n",
       "819     03/03/2017 09:09           cash    3/3/2017 9:09   \n",
       "        03/09/2017 14:15           cash   3/9/2017 14:15   \n",
       "830     03/24/2017 22:26    credit_card  3/24/2017 22:26   \n",
       "839     03/12/2017 02:45          debit   3/12/2017 2:45   \n",
       "859     03/24/2017 20:50           cash  3/24/2017 20:50   \n",
       "868     03/01/2017 18:33          debit   3/1/2017 18:33   \n",
       "        03/23/2017 18:10          debit  3/23/2017 18:10   \n",
       "872     03/24/2017 00:57          debit   3/24/2017 0:57   \n",
       "886     03/09/2017 20:10          debit   3/9/2017 20:10   \n",
       "904     03/04/2017 14:32    credit_card   3/4/2017 14:32   \n",
       "907     03/12/2017 23:00          debit  3/12/2017 23:00   \n",
       "926     03/13/2017 02:38           cash   3/13/2017 2:38   \n",
       "934     03/26/2017 09:21           cash   3/26/2017 9:21   \n",
       "946     03/24/2017 13:35          debit  3/24/2017 13:35   \n",
       "951     03/19/2017 11:49          debit  3/19/2017 11:49   \n",
       "962     03/04/2017 00:01           cash    3/4/2017 0:01   \n",
       "970     03/05/2017 10:45    credit_card   3/5/2017 10:45   \n",
       "975     03/12/2017 01:28          debit   3/12/2017 1:28   \n",
       "\n",
       "                          average_cost_per_item  \n",
       "user_id transaction_time                         \n",
       "607     03/02/2017 04:00                  352.0  \n",
       "        03/02/2017 04:00                  352.0  \n",
       "        03/04/2017 04:00                  352.0  \n",
       "        03/07/2017 04:00                  352.0  \n",
       "        03/07/2017 04:00                  352.0  \n",
       "        03/11/2017 04:00                  352.0  \n",
       "        03/12/2017 04:00                  352.0  \n",
       "        03/15/2017 04:00                  352.0  \n",
       "        03/17/2017 04:00                  352.0  \n",
       "        03/19/2017 04:00                  352.0  \n",
       "        03/22/2017 04:00                  352.0  \n",
       "        03/24/2017 04:00                  352.0  \n",
       "        03/24/2017 04:00                  352.0  \n",
       "        03/25/2017 04:00                  352.0  \n",
       "        03/28/2017 04:00                  352.0  \n",
       "        03/28/2017 04:00                  352.0  \n",
       "        03/28/2017 04:00                  352.0  \n",
       "720     03/14/2017 10:26                  352.0  \n",
       "726     03/24/2017 17:51                  352.0  \n",
       "736     03/01/2017 12:19                  352.0  \n",
       "739     03/01/2017 12:42                  352.0  \n",
       "        03/07/2017 05:42                  352.0  \n",
       "744     03/12/2017 13:09                  352.0  \n",
       "747     03/27/2017 20:48                  352.0  \n",
       "756     03/22/2017 13:10                  352.0  \n",
       "770     03/11/2017 18:14                  352.0  \n",
       "        03/17/2017 08:11                  352.0  \n",
       "788     03/16/2017 23:37                  352.0  \n",
       "792     03/25/2017 21:31                  352.0  \n",
       "793     03/24/2017 14:15                  352.0  \n",
       "797     03/10/2017 06:28                  352.0  \n",
       "808     03/13/2017 23:43                  352.0  \n",
       "809     03/11/2017 08:21                  352.0  \n",
       "819     03/03/2017 09:09                  352.0  \n",
       "        03/09/2017 14:15                  352.0  \n",
       "830     03/24/2017 22:26                  352.0  \n",
       "839     03/12/2017 02:45                  352.0  \n",
       "859     03/24/2017 20:50                  352.0  \n",
       "868     03/01/2017 18:33                  352.0  \n",
       "        03/23/2017 18:10                  352.0  \n",
       "872     03/24/2017 00:57                  352.0  \n",
       "886     03/09/2017 20:10                  352.0  \n",
       "904     03/04/2017 14:32                  352.0  \n",
       "907     03/12/2017 23:00                  352.0  \n",
       "926     03/13/2017 02:38                  352.0  \n",
       "934     03/26/2017 09:21                  352.0  \n",
       "946     03/24/2017 13:35                  352.0  \n",
       "951     03/19/2017 11:49                  352.0  \n",
       "962     03/04/2017 00:01                  352.0  \n",
       "970     03/05/2017 10:45                  352.0  \n",
       "975     03/12/2017 01:28                  352.0  "
      ]
     },
     "execution_count": 40,
     "metadata": {},
     "output_type": "execute_result"
    }
   ],
   "source": [
    "max_average_cost_df = (data[data['average_cost_per_item'] == data['average_cost_per_item'].max()])\n",
    "((data[data['average_cost_per_item'] == data['average_cost_per_item'].max()]).set_index(['user_id','transaction_time']).sort_values(by= ['user_id','transaction_time']))\n"
   ]
  },
  {
   "cell_type": "markdown",
   "id": "83f6f5f4-2196-491c-87ef-500344d00a75",
   "metadata": {},
   "source": [
    "## 51 transactions occurred at this higher price, all from store 42\n",
    "The $352 pair of sneakers only appeared in the month of March (2017)"
   ]
  },
  {
   "cell_type": "code",
   "execution_count": 41,
   "id": "8e0a339a-4326-410e-97bb-9c8defc8b133",
   "metadata": {},
   "outputs": [
    {
     "name": "stdout",
     "output_type": "stream",
     "text": [
      "Number of unique customers based on user_id column: 31\n",
      "Number of transactions: average_cost_per_item\n",
      "352.0    51\n",
      "dtype: int64\n"
     ]
    }
   ],
   "source": [
    "print('Number of unique customers based on user_id column:', max_average_cost_df['user_id'].nunique())\n",
    "print('Number of transactions:', max_average_cost_df.value_counts('average_cost_per_item'))"
   ]
  },
  {
   "cell_type": "markdown",
   "id": "99fe58e4-92e1-4cbc-b0a2-b4e2f6526dcd",
   "metadata": {},
   "source": [
    "***\n",
    "## Cleaning shop 42 out due to anomaly in sneaker pricing"
   ]
  },
  {
   "cell_type": "code",
   "execution_count": 42,
   "id": "37b335ce-a004-42fb-8d2a-7adeae95a52d",
   "metadata": {},
   "outputs": [
    {
     "data": {
      "text/html": [
       "<div>\n",
       "<style scoped>\n",
       "    .dataframe tbody tr th:only-of-type {\n",
       "        vertical-align: middle;\n",
       "    }\n",
       "\n",
       "    .dataframe tbody tr th {\n",
       "        vertical-align: top;\n",
       "    }\n",
       "\n",
       "    .dataframe thead th {\n",
       "        text-align: right;\n",
       "    }\n",
       "</style>\n",
       "<table border=\"1\" class=\"dataframe\">\n",
       "  <thead>\n",
       "    <tr style=\"text-align: right;\">\n",
       "      <th></th>\n",
       "      <th>order_id</th>\n",
       "      <th>shop_id</th>\n",
       "      <th>user_id</th>\n",
       "      <th>order_amount</th>\n",
       "      <th>total_items</th>\n",
       "      <th>payment_method</th>\n",
       "      <th>created_at</th>\n",
       "      <th>average_cost_per_item</th>\n",
       "      <th>transaction_time</th>\n",
       "    </tr>\n",
       "    <tr>\n",
       "      <th>month</th>\n",
       "      <th></th>\n",
       "      <th></th>\n",
       "      <th></th>\n",
       "      <th></th>\n",
       "      <th></th>\n",
       "      <th></th>\n",
       "      <th></th>\n",
       "      <th></th>\n",
       "      <th></th>\n",
       "    </tr>\n",
       "  </thead>\n",
       "  <tbody>\n",
       "    <tr>\n",
       "      <th>03/2017</th>\n",
       "      <td>42</td>\n",
       "      <td>1</td>\n",
       "      <td>847</td>\n",
       "      <td>316</td>\n",
       "      <td>2</td>\n",
       "      <td>debit</td>\n",
       "      <td>3/20/2017 14:58</td>\n",
       "      <td>158.0</td>\n",
       "      <td>03/20/2017 14:58</td>\n",
       "    </tr>\n",
       "    <tr>\n",
       "      <th>03/2017</th>\n",
       "      <td>348</td>\n",
       "      <td>1</td>\n",
       "      <td>907</td>\n",
       "      <td>158</td>\n",
       "      <td>1</td>\n",
       "      <td>credit_card</td>\n",
       "      <td>3/3/2017 6:59</td>\n",
       "      <td>158.0</td>\n",
       "      <td>03/03/2017 06:59</td>\n",
       "    </tr>\n",
       "    <tr>\n",
       "      <th>03/2017</th>\n",
       "      <td>375</td>\n",
       "      <td>1</td>\n",
       "      <td>948</td>\n",
       "      <td>632</td>\n",
       "      <td>4</td>\n",
       "      <td>cash</td>\n",
       "      <td>3/10/2017 13:40</td>\n",
       "      <td>158.0</td>\n",
       "      <td>03/10/2017 13:40</td>\n",
       "    </tr>\n",
       "    <tr>\n",
       "      <th>03/2017</th>\n",
       "      <td>389</td>\n",
       "      <td>1</td>\n",
       "      <td>713</td>\n",
       "      <td>316</td>\n",
       "      <td>2</td>\n",
       "      <td>cash</td>\n",
       "      <td>3/12/2017 22:22</td>\n",
       "      <td>158.0</td>\n",
       "      <td>03/12/2017 22:22</td>\n",
       "    </tr>\n",
       "    <tr>\n",
       "      <th>03/2017</th>\n",
       "      <td>589</td>\n",
       "      <td>1</td>\n",
       "      <td>725</td>\n",
       "      <td>316</td>\n",
       "      <td>2</td>\n",
       "      <td>credit_card</td>\n",
       "      <td>3/9/2017 6:58</td>\n",
       "      <td>158.0</td>\n",
       "      <td>03/09/2017 06:58</td>\n",
       "    </tr>\n",
       "    <tr>\n",
       "      <th>...</th>\n",
       "      <td>...</td>\n",
       "      <td>...</td>\n",
       "      <td>...</td>\n",
       "      <td>...</td>\n",
       "      <td>...</td>\n",
       "      <td>...</td>\n",
       "      <td>...</td>\n",
       "      <td>...</td>\n",
       "      <td>...</td>\n",
       "    </tr>\n",
       "    <tr>\n",
       "      <th>03/2017</th>\n",
       "      <td>4233</td>\n",
       "      <td>100</td>\n",
       "      <td>995</td>\n",
       "      <td>222</td>\n",
       "      <td>2</td>\n",
       "      <td>cash</td>\n",
       "      <td>3/26/2017 11:13</td>\n",
       "      <td>111.0</td>\n",
       "      <td>03/26/2017 11:13</td>\n",
       "    </tr>\n",
       "    <tr>\n",
       "      <th>03/2017</th>\n",
       "      <td>4425</td>\n",
       "      <td>100</td>\n",
       "      <td>927</td>\n",
       "      <td>333</td>\n",
       "      <td>3</td>\n",
       "      <td>debit</td>\n",
       "      <td>3/13/2017 12:36</td>\n",
       "      <td>111.0</td>\n",
       "      <td>03/13/2017 12:36</td>\n",
       "    </tr>\n",
       "    <tr>\n",
       "      <th>03/2017</th>\n",
       "      <td>4429</td>\n",
       "      <td>100</td>\n",
       "      <td>997</td>\n",
       "      <td>111</td>\n",
       "      <td>1</td>\n",
       "      <td>debit</td>\n",
       "      <td>3/22/2017 1:27</td>\n",
       "      <td>111.0</td>\n",
       "      <td>03/22/2017 01:27</td>\n",
       "    </tr>\n",
       "    <tr>\n",
       "      <th>03/2017</th>\n",
       "      <td>4846</td>\n",
       "      <td>100</td>\n",
       "      <td>857</td>\n",
       "      <td>111</td>\n",
       "      <td>1</td>\n",
       "      <td>cash</td>\n",
       "      <td>3/26/2017 17:01</td>\n",
       "      <td>111.0</td>\n",
       "      <td>03/26/2017 17:01</td>\n",
       "    </tr>\n",
       "    <tr>\n",
       "      <th>03/2017</th>\n",
       "      <td>4987</td>\n",
       "      <td>100</td>\n",
       "      <td>731</td>\n",
       "      <td>111</td>\n",
       "      <td>1</td>\n",
       "      <td>cash</td>\n",
       "      <td>3/30/2017 7:01</td>\n",
       "      <td>111.0</td>\n",
       "      <td>03/30/2017 07:01</td>\n",
       "    </tr>\n",
       "  </tbody>\n",
       "</table>\n",
       "<p>4903 rows × 9 columns</p>\n",
       "</div>"
      ],
      "text/plain": [
       "         order_id  shop_id  user_id  order_amount  total_items payment_method  \\\n",
       "month                                                                           \n",
       "03/2017        42        1      847           316            2          debit   \n",
       "03/2017       348        1      907           158            1    credit_card   \n",
       "03/2017       375        1      948           632            4           cash   \n",
       "03/2017       389        1      713           316            2           cash   \n",
       "03/2017       589        1      725           316            2    credit_card   \n",
       "...           ...      ...      ...           ...          ...            ...   \n",
       "03/2017      4233      100      995           222            2           cash   \n",
       "03/2017      4425      100      927           333            3          debit   \n",
       "03/2017      4429      100      997           111            1          debit   \n",
       "03/2017      4846      100      857           111            1           cash   \n",
       "03/2017      4987      100      731           111            1           cash   \n",
       "\n",
       "              created_at  average_cost_per_item  transaction_time  \n",
       "month                                                              \n",
       "03/2017  3/20/2017 14:58                  158.0  03/20/2017 14:58  \n",
       "03/2017    3/3/2017 6:59                  158.0  03/03/2017 06:59  \n",
       "03/2017  3/10/2017 13:40                  158.0  03/10/2017 13:40  \n",
       "03/2017  3/12/2017 22:22                  158.0  03/12/2017 22:22  \n",
       "03/2017    3/9/2017 6:58                  158.0  03/09/2017 06:58  \n",
       "...                  ...                    ...               ...  \n",
       "03/2017  3/26/2017 11:13                  111.0  03/26/2017 11:13  \n",
       "03/2017  3/13/2017 12:36                  111.0  03/13/2017 12:36  \n",
       "03/2017   3/22/2017 1:27                  111.0  03/22/2017 01:27  \n",
       "03/2017  3/26/2017 17:01                  111.0  03/26/2017 17:01  \n",
       "03/2017   3/30/2017 7:01                  111.0  03/30/2017 07:01  \n",
       "\n",
       "[4903 rows x 9 columns]"
      ]
     },
     "execution_count": 42,
     "metadata": {},
     "output_type": "execute_result"
    }
   ],
   "source": [
    "cleaned_data = data[data['average_cost_per_item'] != data['average_cost_per_item'].max()]\n",
    "cleaned_data"
   ]
  },
  {
   "cell_type": "markdown",
   "id": "883f0a39-b048-40b7-9d2c-a5709967dfde",
   "metadata": {},
   "source": [
    "### Computing to see if the average and remaining shopify dataset is statistically relevant\n"
   ]
  },
  {
   "cell_type": "code",
   "execution_count": 43,
   "id": "a62b3050-001b-4363-af2e-dd53b0c02bb0",
   "metadata": {},
   "outputs": [
    {
     "name": "stdout",
     "output_type": "stream",
     "text": [
      "Median cost per item: $153\n",
      "Average cost per item based on total cost of all items: $150.4\n",
      "Standard Deviation of AOV: $23.85\n",
      "Minimum Sneaker Pricing: $90\n",
      "Maximum Sneaker Pricing: $201\n"
     ]
    }
   ],
   "source": [
    "list_items = AOV_find(cleaned_data)\n",
    "stdev =  (cleaned_data['average_cost_per_item'].std())\n",
    "print(\"Standard Deviation of AOV:\" ,money_format(stdev))\n",
    "time_based = cleaned_data\n",
    "min_price = cleaned_data['average_cost_per_item'].min()\n",
    "max_price = cleaned_data['average_cost_per_item'].max()\n",
    "print(\"Minimum Sneaker Pricing:\", money_format(min_price))\n",
    "print(\"Maximum Sneaker Pricing:\", money_format(max_price))\n",
    "\n",
    "AOV = (np.mean(np.array(list_items))) \n",
    "\n",
    "\n",
    "\n"
   ]
  },
  {
   "cell_type": "markdown",
   "id": "1f544351-9559-4069-80d6-ed78eaf96330",
   "metadata": {},
   "source": [
    "## The minimum and maximum sneaker prices are within 3 standard deviations of the AOV\n",
    "***\n",
    "## The histogram has a better distribution of average pricing per sneaker and the line graph shows that prices fluctuate between \\\\$100-$200 per pair\n",
    "### purchases using credit/cash/debit visually appear to be irrelevant, but more investigations can probably tell us more information"
   ]
  },
  {
   "cell_type": "code",
   "execution_count": 44,
   "id": "bf16da24-fd19-48a0-a276-d21fd6730c93",
   "metadata": {},
   "outputs": [
    {
     "data": {
      "image/png": "[encoded data removed]",
      "text/plain": [
       "<Figure size 432x288 with 1 Axes>"
      ]
     },
     "metadata": {
      "needs_background": "light"
     },
     "output_type": "display_data"
    },
    {
     "name": "stdout",
     "output_type": "stream",
     "text": [
      "Number of shops that belong to each average price bin that belongs to the above histogram:\n",
      " [139. 164. 362. 817. 547. 844. 833. 684. 266. 247.]\n"
     ]
    },
    {
     "data": {
      "image/png": "[encoded data removed]",
      "text/plain": [
       "<Figure size 432x288 with 1 Axes>"
      ]
     },
     "metadata": {
      "needs_background": "light"
     },
     "output_type": "display_data"
    }
   ],
   "source": [
    "counts_cleaned, edges_cleaned = hist_average_cost(cleaned_data)\n",
    "\n",
    "time_based.groupby('payment_method')['average_cost_per_item'].plot(legend = True, x_compat=True, alpha = 0.6, title = 'Average Cost of Sneakers Purchased based on Time of Transaction')\n",
    "plt.xticks(rotation = '45')\n",
    "plt.xlabel('time / months')\n",
    "plt.ylabel('Average Cost of Sneakers per Order')\n",
    "plt.show()\n",
    "plt.close()"
   ]
  },
  {
   "cell_type": "markdown",
   "id": "125dcd24-4bf7-4b76-ad8b-4f226b04dcd3",
   "metadata": {},
   "source": [
    "### Average cost of each sneakers of \\\\$150.40 was found based on the mean of each pair of sneakers purchased, NOT based on each order. \n",
    "\n",
    "### Also, this was found after removing all average price per item that was equal to \\\\$25725. This was either a currency error or an input error. \\\\$257.25 seems more likely, but I removed this data because I didn't want to alter the real data. \n",
    "\n",
    "### Next, I removed the order data associated with shop_id 42. In the month of March (2017), it appeared that they were upselling or bundling sneakers with another item, causing for the price to go above the average cost of sneakers that I finally was able toconclude. The latter is more likely in the sneaker community, so i omitted shop_id 42 from the final calculation."
   ]
  },
  {
   "cell_type": "markdown",
   "id": "23909657-9e64-4b31-8f8e-9e98d2f48426",
   "metadata": {},
   "source": [
    "# Getting to a more accurate AOV"
   ]
  },
  {
   "cell_type": "code",
   "execution_count": 48,
   "id": "32301338-fd65-4ecb-8a71-ba2652c4f422",
   "metadata": {},
   "outputs": [
    {
     "data": {
      "text/html": [
       "<div>\n",
       "<style scoped>\n",
       "    .dataframe tbody tr th:only-of-type {\n",
       "        vertical-align: middle;\n",
       "    }\n",
       "\n",
       "    .dataframe tbody tr th {\n",
       "        vertical-align: top;\n",
       "    }\n",
       "\n",
       "    .dataframe thead th {\n",
       "        text-align: right;\n",
       "    }\n",
       "</style>\n",
       "<table border=\"1\" class=\"dataframe\">\n",
       "  <thead>\n",
       "    <tr style=\"text-align: right;\">\n",
       "      <th></th>\n",
       "      <th>order_id</th>\n",
       "      <th>shop_id</th>\n",
       "      <th>user_id</th>\n",
       "      <th>order_amount</th>\n",
       "      <th>total_items</th>\n",
       "      <th>average_cost_per_item</th>\n",
       "    </tr>\n",
       "  </thead>\n",
       "  <tbody>\n",
       "    <tr>\n",
       "      <th>count</th>\n",
       "      <td>4903.000000</td>\n",
       "      <td>4903.000000</td>\n",
       "      <td>4903.000000</td>\n",
       "      <td>4903.000000</td>\n",
       "      <td>4903.000000</td>\n",
       "      <td>4903.000000</td>\n",
       "    </tr>\n",
       "    <tr>\n",
       "      <th>mean</th>\n",
       "      <td>2499.584540</td>\n",
       "      <td>49.900877</td>\n",
       "      <td>849.858862</td>\n",
       "      <td>300.155823</td>\n",
       "      <td>1.995717</td>\n",
       "      <td>150.400163</td>\n",
       "    </tr>\n",
       "    <tr>\n",
       "      <th>std</th>\n",
       "      <td>1444.221163</td>\n",
       "      <td>29.154367</td>\n",
       "      <td>86.887947</td>\n",
       "      <td>155.941112</td>\n",
       "      <td>0.982602</td>\n",
       "      <td>23.851202</td>\n",
       "    </tr>\n",
       "    <tr>\n",
       "      <th>min</th>\n",
       "      <td>1.000000</td>\n",
       "      <td>1.000000</td>\n",
       "      <td>700.000000</td>\n",
       "      <td>90.000000</td>\n",
       "      <td>1.000000</td>\n",
       "      <td>90.000000</td>\n",
       "    </tr>\n",
       "    <tr>\n",
       "      <th>25%</th>\n",
       "      <td>1246.500000</td>\n",
       "      <td>24.000000</td>\n",
       "      <td>776.000000</td>\n",
       "      <td>163.000000</td>\n",
       "      <td>1.000000</td>\n",
       "      <td>132.000000</td>\n",
       "    </tr>\n",
       "    <tr>\n",
       "      <th>50%</th>\n",
       "      <td>2499.000000</td>\n",
       "      <td>50.000000</td>\n",
       "      <td>850.000000</td>\n",
       "      <td>284.000000</td>\n",
       "      <td>2.000000</td>\n",
       "      <td>153.000000</td>\n",
       "    </tr>\n",
       "    <tr>\n",
       "      <th>75%</th>\n",
       "      <td>3750.500000</td>\n",
       "      <td>74.000000</td>\n",
       "      <td>925.000000</td>\n",
       "      <td>386.500000</td>\n",
       "      <td>3.000000</td>\n",
       "      <td>166.000000</td>\n",
       "    </tr>\n",
       "    <tr>\n",
       "      <th>max</th>\n",
       "      <td>5000.000000</td>\n",
       "      <td>100.000000</td>\n",
       "      <td>999.000000</td>\n",
       "      <td>1086.000000</td>\n",
       "      <td>8.000000</td>\n",
       "      <td>201.000000</td>\n",
       "    </tr>\n",
       "  </tbody>\n",
       "</table>\n",
       "</div>"
      ],
      "text/plain": [
       "          order_id      shop_id      user_id  order_amount  total_items  \\\n",
       "count  4903.000000  4903.000000  4903.000000   4903.000000  4903.000000   \n",
       "mean   2499.584540    49.900877   849.858862    300.155823     1.995717   \n",
       "std    1444.221163    29.154367    86.887947    155.941112     0.982602   \n",
       "min       1.000000     1.000000   700.000000     90.000000     1.000000   \n",
       "25%    1246.500000    24.000000   776.000000    163.000000     1.000000   \n",
       "50%    2499.000000    50.000000   850.000000    284.000000     2.000000   \n",
       "75%    3750.500000    74.000000   925.000000    386.500000     3.000000   \n",
       "max    5000.000000   100.000000   999.000000   1086.000000     8.000000   \n",
       "\n",
       "       average_cost_per_item  \n",
       "count            4903.000000  \n",
       "mean              150.400163  \n",
       "std                23.851202  \n",
       "min                90.000000  \n",
       "25%               132.000000  \n",
       "50%               153.000000  \n",
       "75%               166.000000  \n",
       "max               201.000000  "
      ]
     },
     "execution_count": 48,
     "metadata": {},
     "output_type": "execute_result"
    }
   ],
   "source": [
    "cleaned_data.describe()\n"
   ]
  },
  {
   "cell_type": "code",
   "execution_count": 51,
   "id": "821f1c7f-f5da-432c-928c-4c9acfc4290f",
   "metadata": {},
   "outputs": [
    {
     "name": "stdout",
     "output_type": "stream",
     "text": [
      "$284\n"
     ]
    }
   ],
   "source": [
    "print(money_format(cleaned_data['order_amount'].median()))"
   ]
  },
  {
   "cell_type": "markdown",
   "id": "a9a2ee0f-a87a-441f-a33c-2e9de3018916",
   "metadata": {},
   "source": [
    "# The mean value of *order_amount* shows that the AOV is approximately \\\\$300.16, while the median value of this field is \\\\$284\n",
    "# After doing some cleaning and viewing the skewedness of the *order_amount* column via the histogram below, the median value is more appropriate to use for the AOV"
   ]
  },
  {
   "cell_type": "code",
   "execution_count": 55,
   "id": "1560f0ec-6998-498d-b359-565455a0854e",
   "metadata": {},
   "outputs": [
    {
     "data": {
      "image/png": "[encoded data removed]",
      "text/plain": [
       "<Figure size 432x288 with 1 Axes>"
      ]
     },
     "metadata": {
      "needs_background": "light"
     },
     "output_type": "display_data"
    }
   ],
   "source": [
    "cleaned_data['order_amount'].hist(bins = 20)\n",
    "plt.show()"
   ]
  },
  {
   "cell_type": "code",
   "execution_count": null,
   "id": "e63a1cde-5125-4fe2-be4f-cb629dc19c03",
   "metadata": {},
   "outputs": [],
   "source": []
  }
 ],
 "metadata": {
  "kernelspec": {
   "display_name": "Python 3 (ipykernel)",
   "language": "python",
   "name": "python3"
  },
  "language_info": {
   "codemirror_mode": {
    "name": "ipython",
    "version": 3
   },
   "file_extension": ".py",
   "mimetype": "text/x-python",
   "name": "python",
   "nbconvert_exporter": "python",
   "pygments_lexer": "ipython3",
   "version": "3.8.2"
  }
 },
 "nbformat": 4,
 "nbformat_minor": 5
}
